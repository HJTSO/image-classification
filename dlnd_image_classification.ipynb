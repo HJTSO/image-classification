{
 "cells": [
  {
   "cell_type": "markdown",
   "metadata": {
    "collapsed": true
   },
   "source": [
    "# 图像分类\n",
    "\n",
    "在此项目中，你将对 [CIFAR-10 数据集](https://www.cs.toronto.edu/~kriz/cifar.html) 中的图片进行分类。该数据集包含飞机、猫狗和其他物体。你需要预处理这些图片，然后用所有样本训练一个卷积神经网络。图片需要标准化（normalized），标签需要采用 one-hot 编码。你需要应用所学的知识构建卷积（convolution）、最大池化（max pooling）、丢弃（dropout）和完全连接（fully connected）的层。最后，你需要在样本图片上看到神经网络的预测结果。\n",
    "\n",
    "\n",
    "## 获取数据\n",
    "\n",
    "请运行以下单元，以下载 [CIFAR-10 数据集（Python版）](https://www.cs.toronto.edu/~kriz/cifar-10-python.tar.gz)。\n"
   ]
  },
  {
   "cell_type": "code",
   "execution_count": 2,
   "metadata": {},
   "outputs": [
    {
     "name": "stdout",
     "output_type": "stream",
     "text": [
      "All files found!\n"
     ]
    }
   ],
   "source": [
    "\"\"\"\n",
    "DON'T MODIFY ANYTHING IN THIS CELL THAT IS BELOW THIS LINE\n",
    "\"\"\"\n",
    "from urllib.request import urlretrieve\n",
    "from os.path import isfile, isdir\n",
    "from tqdm import tqdm\n",
    "import problem_unittests as tests\n",
    "import tarfile\n",
    "\n",
    "cifar10_dataset_folder_path = 'cifar-10-batches-py'\n",
    "\n",
    "# Use Floyd's cifar-10 dataset if present\n",
    "floyd_cifar10_location = '/input/cifar-10/python.tar.gz'\n",
    "if isfile(floyd_cifar10_location):\n",
    "    tar_gz_path = floyd_cifar10_location\n",
    "else:\n",
    "    tar_gz_path = 'cifar-10-python.tar.gz'\n",
    "\n",
    "class DLProgress(tqdm):\n",
    "    last_block = 0\n",
    "\n",
    "    def hook(self, block_num=1, block_size=1, total_size=None):\n",
    "        self.total = total_size\n",
    "        self.update((block_num - self.last_block) * block_size)\n",
    "        self.last_block = block_num\n",
    "\n",
    "if not isfile(tar_gz_path):\n",
    "    with DLProgress(unit='B', unit_scale=True, miniters=1, desc='CIFAR-10 Dataset') as pbar:\n",
    "        urlretrieve(\n",
    "            'https://www.cs.toronto.edu/~kriz/cifar-10-python.tar.gz',\n",
    "            tar_gz_path,\n",
    "            pbar.hook)\n",
    "\n",
    "if not isdir(cifar10_dataset_folder_path):\n",
    "    with tarfile.open(tar_gz_path) as tar:\n",
    "        tar.extractall()\n",
    "        tar.close()\n",
    "\n",
    "\n",
    "tests.test_folder_path(cifar10_dataset_folder_path)"
   ]
  },
  {
   "cell_type": "markdown",
   "metadata": {},
   "source": [
    "## 探索数据\n",
    "\n",
    "该数据集分成了几部分／批次（batches），以免你的机器在计算时内存不足。CIFAR-10 数据集包含 5 个部分，名称分别为 `data_batch_1`、`data_batch_2`，以此类推。每个部分都包含以下某个类别的标签和图片：\n",
    "\n",
    "* 飞机\n",
    "* 汽车\n",
    "* 鸟类\n",
    "* 猫\n",
    "* 鹿\n",
    "* 狗\n",
    "* 青蛙\n",
    "* 马\n",
    "* 船只\n",
    "* 卡车\n",
    "\n",
    "了解数据集也是对数据进行预测的必经步骤。你可以通过更改 `batch_id` 和 `sample_id` 探索下面的代码单元。`batch_id` 是数据集一个部分的 ID（1 到 5）。`sample_id` 是该部分中图片和标签对（label pair）的 ID。\n",
    "\n",
    "问问你自己：“可能的标签有哪些？”、“图片数据的值范围是多少？”、“标签是按顺序排列，还是随机排列的？”。思考类似的问题，有助于你预处理数据，并使预测结果更准确。\n"
   ]
  },
  {
   "cell_type": "code",
   "execution_count": 3,
   "metadata": {},
   "outputs": [
    {
     "name": "stdout",
     "output_type": "stream",
     "text": [
      "\n",
      "Stats of batch 4:\n",
      "Samples: 10000\n",
      "Label Counts: {0: 1003, 1: 963, 2: 1041, 3: 976, 4: 1004, 5: 1021, 6: 1004, 7: 981, 8: 1024, 9: 983}\n",
      "First 20 Labels: [0, 6, 0, 2, 7, 2, 1, 2, 4, 1, 5, 6, 6, 3, 1, 3, 5, 5, 8, 1]\n",
      "\n",
      "Example of Image 10:\n",
      "Image - Min Value: 44 Max Value: 246\n",
      "Image - Shape: (32, 32, 3)\n",
      "Label - Label Id: 5 Name: dog\n"
     ]
    },
    {
     "data": {
      "image/png": "[encoded data removed]",
      "text/plain": [
       "<matplotlib.figure.Figure at 0x7fadfc069d30>"
      ]
     },
     "metadata": {
      "image/png": {
       "height": 250,
       "width": 253
      }
     },
     "output_type": "display_data"
    }
   ],
   "source": [
    "%matplotlib inline\n",
    "%config InlineBackend.figure_format = 'retina'\n",
    "\n",
    "import helper\n",
    "import numpy as np\n",
    "\n",
    "# Explore the dataset\n",
    "batch_id = 4\n",
    "sample_id = 10\n",
    "helper.display_stats(cifar10_dataset_folder_path, batch_id, sample_id)"
   ]
  },
  {
   "cell_type": "markdown",
   "metadata": {},
   "source": [
    "## 实现预处理函数\n",
    "\n",
    "### 标准化\n",
    "\n",
    "在下面的单元中，实现 `normalize` 函数，传入图片数据 `x`，并返回标准化 Numpy 数组。值应该在 0 到 1 的范围内（含 0 和 1）。返回对象应该和 `x` 的形状一样。\n"
   ]
  },
  {
   "cell_type": "code",
   "execution_count": 4,
   "metadata": {},
   "outputs": [
    {
     "name": "stdout",
     "output_type": "stream",
     "text": [
      "Tests Passed\n"
     ]
    }
   ],
   "source": [
    "def normalize(x):\n",
    "    \"\"\"\n",
    "    Normalize a list of sample image data in the range of 0 to 1\n",
    "    : x: List of image data.  The image shape is (32, 32, 3)\n",
    "    : return: Numpy array of normalize data\n",
    "    \"\"\"\n",
    "    # TODO: Implement Function\n",
    "    return x/np.max(x)\n",
    "\n",
    "    # Method 2:\n",
    "    #return x/255\n",
    "\n",
    "\"\"\"\n",
    "DON'T MODIFY ANYTHING IN THIS CELL THAT IS BELOW THIS LINE\n",
    "\"\"\"\n",
    "tests.test_normalize(normalize)"
   ]
  },
  {
   "cell_type": "markdown",
   "metadata": {},
   "source": [
    "### One-hot 编码\n",
    "\n",
    "和之前的代码单元一样，你将为预处理实现一个函数。这次，你将实现 `one_hot_encode` 函数。输入，也就是 `x`，是一个标签列表。实现该函数，以返回为 one_hot 编码的 Numpy 数组的标签列表。标签的可能值为 0 到 9。每次调用 `one_hot_encode` 时，对于每个值，one_hot 编码函数应该返回相同的编码。确保将编码映射保存到该函数外面。\n",
    "\n",
    "提示：不要重复发明轮子。\n"
   ]
  },
  {
   "cell_type": "code",
   "execution_count": 5,
   "metadata": {},
   "outputs": [
    {
     "name": "stdout",
     "output_type": "stream",
     "text": [
      "Tests Passed\n"
     ]
    }
   ],
   "source": [
    "def one_hot_encode(x):\n",
    "    \"\"\"\n",
    "    One hot encode a list of sample labels. Return a one-hot encoded vector for each label.\n",
    "    : x: List of sample Labels\n",
    "    : return: Numpy array of one-hot encoded labels\n",
    "    \"\"\"\n",
    "    # TODO: Implement Function\n",
    "    from sklearn import preprocessing\n",
    "    labels = np.array([0,1,2,3,4,5,6,7,8,9])\n",
    "    lb = preprocessing.LabelBinarizer()\n",
    "    lb.fit(labels)\n",
    "    return lb.transform(x)\n",
    "\n",
    "\"\"\"\n",
    "DON'T MODIFY ANYTHING IN THIS CELL THAT IS BELOW THIS LINE\n",
    "\"\"\"\n",
    "tests.test_one_hot_encode(one_hot_encode)"
   ]
  },
  {
   "cell_type": "markdown",
   "metadata": {},
   "source": [
    "### 随机化数据\n",
    "\n",
    "之前探索数据时，你已经了解到，样本的顺序是随机的。再随机化一次也不会有什么关系，但是对于这个数据集没有必要。\n"
   ]
  },
  {
   "cell_type": "markdown",
   "metadata": {},
   "source": [
    "## 预处理所有数据并保存\n",
    "\n",
    "运行下方的代码单元，将预处理所有 CIFAR-10 数据，并保存到文件中。下面的代码还使用了 10% 的训练数据，用来验证。\n"
   ]
  },
  {
   "cell_type": "code",
   "execution_count": 6,
   "metadata": {
    "collapsed": true
   },
   "outputs": [],
   "source": [
    "\"\"\"\n",
    "DON'T MODIFY ANYTHING IN THIS CELL\n",
    "\"\"\"\n",
    "# Preprocess Training, Validation, and Testing Data\n",
    "helper.preprocess_and_save_data(cifar10_dataset_folder_path, normalize, one_hot_encode)"
   ]
  },
  {
   "cell_type": "markdown",
   "metadata": {},
   "source": [
    "# 检查点\n",
    "\n",
    "这是你的第一个检查点。如果你什么时候决定再回到该记事本，或需要重新启动该记事本，你可以从这里开始。预处理的数据已保存到本地。\n"
   ]
  },
  {
   "cell_type": "code",
   "execution_count": 7,
   "metadata": {},
   "outputs": [],
   "source": [
    "\"\"\"\n",
    "DON'T MODIFY ANYTHING IN THIS CELL\n",
    "\"\"\"\n",
    "import pickle\n",
    "import problem_unittests as tests\n",
    "import helper\n",
    "\n",
    "# Load the Preprocessed Validation data\n",
    "valid_features, valid_labels = pickle.load(open('preprocess_validation.p', mode='rb'))\n",
    "\n",
    "#print(valid_features[10])\n",
    "#print(valid_labels[1000])"
   ]
  },
  {
   "cell_type": "markdown",
   "metadata": {},
   "source": [
    "## 构建网络\n",
    "\n",
    "对于该神经网络，你需要将每层都构建为一个函数。你看到的大部分代码都位于函数外面。要更全面地测试你的代码，我们需要你将每层放入一个函数中。这样使我们能够提供更好的反馈，并使用我们的统一测试检测简单的错误，然后再提交项目。\n",
    "\n",
    ">**注意**：如果你觉得每周很难抽出足够的时间学习这门课程，我们为此项目提供了一个小捷径。对于接下来的几个问题，你可以使用 [TensorFlow Layers](https://www.tensorflow.org/api_docs/python/tf/layers) 或 [TensorFlow Layers (contrib)](https://www.tensorflow.org/api_guides/python/contrib.layers) 程序包中的类来构建每个层级，但是“卷积和最大池化层级”部分的层级除外。TF Layers 和 Keras 及 TFLearn 层级类似，因此很容易学会。\n",
    "\n",
    ">但是，如果你想充分利用这门课程，请尝试自己解决所有问题，不使用 TF Layers 程序包中的任何类。你依然可以使用其他程序包中的类，这些类和你在 TF Layers 中的类名称是一样的！例如，你可以使用 TF Neural Network 版本的 `conv2d` 类 [tf.nn.conv2d](https://www.tensorflow.org/api_docs/python/tf/nn/conv2d)，而不是 TF Layers 版本的 `conv2d` 类 [tf.layers.conv2d](https://www.tensorflow.org/api_docs/python/tf/layers/conv2d)。\n",
    "\n",
    "我们开始吧！\n",
    "\n",
    "\n",
    "### 输入\n",
    "\n",
    "神经网络需要读取图片数据、one-hot 编码标签和丢弃保留概率（dropout keep probability）。请实现以下函数：\n",
    "\n",
    "* 实现 `neural_net_image_input`\n",
    " * 返回 [TF Placeholder](https://www.tensorflow.org/api_docs/python/tf/placeholder)\n",
    " * 使用 `image_shape` 设置形状，部分大小设为 `None`\n",
    " * 使用 [TF Placeholder](https://www.tensorflow.org/api_docs/python/tf/placeholder) 中的 TensorFlow `name` 参数对 TensorFlow 占位符 \"x\" 命名\n",
    "* 实现 `neural_net_label_input`\n",
    " * 返回 [TF Placeholder](https://www.tensorflow.org/api_docs/python/tf/placeholder)\n",
    " * 使用 `n_classes` 设置形状，部分大小设为 `None`\n",
    " * 使用 [TF Placeholder](https://www.tensorflow.org/api_docs/python/tf/placeholder) 中的 TensorFlow `name` 参数对 TensorFlow 占位符 \"y\" 命名\n",
    "* 实现 `neural_net_keep_prob_input`\n",
    " * 返回 [TF Placeholder](https://www.tensorflow.org/api_docs/python/tf/placeholder)，用于丢弃保留概率\n",
    " * 使用 [TF Placeholder](https://www.tensorflow.org/api_docs/python/tf/placeholder) 中的 TensorFlow `name` 参数对 TensorFlow 占位符 \"keep_prob\" 命名\n",
    "\n",
    "这些名称将在项目结束时，用于加载保存的模型。\n",
    "\n",
    "注意：TensorFlow 中的 `None` 表示形状可以是动态大小。"
   ]
  },
  {
   "cell_type": "code",
   "execution_count": 8,
   "metadata": {},
   "outputs": [
    {
     "name": "stdout",
     "output_type": "stream",
     "text": [
      "Image Input Tests Passed.\n",
      "Label Input Tests Passed.\n",
      "Keep Prob Tests Passed.\n"
     ]
    }
   ],
   "source": [
    "import tensorflow as tf\n",
    "\n",
    "def neural_net_image_input(image_shape):\n",
    "    \"\"\"\n",
    "    Return a Tensor for a batch of image input\n",
    "    : image_shape: Shape of the images\n",
    "    : return: Tensor for image input.\n",
    "    \"\"\"\n",
    "    # TODO: Implement Function\n",
    "    x = tf.placeholder(tf.float32, shape=[None, image_shape[0], image_shape[1], image_shape[2]], name=\"x\")\n",
    "    return x\n",
    "\n",
    "def neural_net_label_input(n_classes):\n",
    "    \"\"\"\n",
    "    Return a Tensor for a batch of label input\n",
    "    : n_classes: Number of classes\n",
    "    : return: Tensor for label input.\n",
    "    \"\"\"\n",
    "    # TODO: Implement Function\n",
    "    y = tf.placeholder(tf.float32, shape=[None, n_classes], name=\"y\")\n",
    "    return y\n",
    "\n",
    "\n",
    "def neural_net_keep_prob_input():\n",
    "    \"\"\"\n",
    "    Return a Tensor for keep probability\n",
    "    : return: Tensor for keep probability.\n",
    "    \"\"\"\n",
    "    # TODO: Implement Function\n",
    "    keep_prob = tf.placeholder(tf.float32, None, name=\"keep_prob\")\n",
    "    return keep_prob  \n",
    "\n",
    "\n",
    "\"\"\"\n",
    "DON'T MODIFY ANYTHING IN THIS CELL THAT IS BELOW THIS LINE\n",
    "\"\"\"\n",
    "tf.reset_default_graph()\n",
    "tests.test_nn_image_inputs(neural_net_image_input)\n",
    "tests.test_nn_label_inputs(neural_net_label_input)\n",
    "tests.test_nn_keep_prob_inputs(neural_net_keep_prob_input)"
   ]
  },
  {
   "cell_type": "markdown",
   "metadata": {},
   "source": [
    "### 卷积和最大池化层\n",
    "\n",
    "卷积层级适合处理图片。对于此代码单元，你应该实现函数 `conv2d_maxpool` 以便应用卷积然后进行最大池化：\n",
    "\n",
    "* 使用 `conv_ksize`、`conv_num_outputs` 和 `x_tensor` 的形状创建权重（weight）和偏置（bias）。\n",
    "* 使用权重和 `conv_strides` 对 `x_tensor` 应用卷积。\n",
    " * 建议使用我们建议的间距（padding），当然也可以使用任何其他间距。\n",
    "* 添加偏置\n",
    "* 向卷积中添加非线性激活（nonlinear activation）\n",
    "* 使用 `pool_ksize` 和 `pool_strides` 应用最大池化\n",
    " * 建议使用我们建议的间距（padding），当然也可以使用任何其他间距。\n",
    "\n",
    "**注意**：对于**此层**，**请勿使用** [TensorFlow Layers](https://www.tensorflow.org/api_docs/python/tf/layers) 或 [TensorFlow Layers (contrib)](https://www.tensorflow.org/api_guides/python/contrib.layers)，但是仍然可以使用 TensorFlow 的 [Neural Network](https://www.tensorflow.org/api_docs/python/tf/nn) 包。对于所有**其他层**，你依然可以使用快捷方法。\n"
   ]
  },
  {
   "cell_type": "code",
   "execution_count": 9,
   "metadata": {},
   "outputs": [
    {
     "name": "stdout",
     "output_type": "stream",
     "text": [
      "Tests Passed\n"
     ]
    }
   ],
   "source": [
    "def conv2d_maxpool(x_tensor, conv_num_outputs, conv_ksize, conv_strides, pool_ksize, pool_strides):\n",
    "    \"\"\"\n",
    "    Apply convolution then max pooling to x_tensor\n",
    "    :param x_tensor: TensorFlow Tensor\n",
    "    :param conv_num_outputs: Number of outputs for the convolutional layer\n",
    "    :param conv_ksize: kernal size 2-D Tuple for the convolutional layer\n",
    "    :param conv_strides: Stride 2-D Tuple for convolution\n",
    "    :param pool_ksize: kernal size 2-D Tuple for pool\n",
    "    :param pool_strides: Stride 2-D Tuple for pool\n",
    "    : return: A tensor that represents convolution and max pooling of x_tensor\n",
    "    \"\"\"\n",
    "    # TODO: Implement Function ①②③④⑤⑥⑦⑧⑨⑩\n",
    "    \n",
    "    # 权重（从截断的正态分布中输出随机值） --横轴区间（μ-2σ，μ+2σ）内的面积为95.449974%\n",
    "    conv_weights = tf.Variable(tf.truncated_normal(\n",
    "        [conv_ksize[0], conv_ksize[1], x_tensor.shape[3].value, conv_num_outputs]))\n",
    "    \n",
    "    # 偏置项（从正态分布中输出随机值）\n",
    "    conv_bias = tf.Variable(tf.random_normal([conv_num_outputs]))\n",
    "    \n",
    "    # 卷积层\n",
    "    conv_layer = tf.nn.conv2d(x_tensor, conv_weights, \n",
    "                            strides=[1, conv_strides[0], conv_strides[1], 1], padding='SAME')\n",
    "    conv_layer = tf.nn.bias_add(conv_layer, conv_bias)\n",
    "    conv_layer = tf.nn.relu(conv_layer)\n",
    "    \n",
    "    # 最大池化层\n",
    "    conv_pool = tf.nn.max_pool(conv_layer,\n",
    "                                  ksize=[1, pool_ksize[0], pool_ksize[1], 1],\n",
    "                                  strides=[1, pool_strides[0], pool_strides[1], 1],\n",
    "                                  padding='SAME')\n",
    "    \n",
    "    return conv_pool\n",
    "\n",
    "\"\"\"\n",
    "DON'T MODIFY ANYTHING IN THIS CELL THAT IS BELOW THIS LINE\n",
    "\"\"\"\n",
    "tests.test_con_pool(conv2d_maxpool)"
   ]
  },
  {
   "cell_type": "markdown",
   "metadata": {},
   "source": [
    "### 扁平化层\n",
    "\n",
    "实现 `flatten` 函数，将 `x_tensor` 的维度从四维张量（4-D tensor）变成二维张量。输出应该是形状（*部分大小（Batch Size）*，*扁平化图片大小（Flattened Image Size）*）。快捷方法：对于此层，你可以使用 [TensorFlow Layers](https://www.tensorflow.org/api_docs/python/tf/layers) 或 [TensorFlow Layers (contrib)](https://www.tensorflow.org/api_guides/python/contrib.layers) 包中的类。如果你想要更大挑战，可以仅使用其他 TensorFlow 程序包。\n"
   ]
  },
  {
   "cell_type": "code",
   "execution_count": 10,
   "metadata": {},
   "outputs": [
    {
     "name": "stdout",
     "output_type": "stream",
     "text": [
      "Tests Passed\n"
     ]
    }
   ],
   "source": [
    "def flatten(x_tensor):\n",
    "    \"\"\"\n",
    "    Flatten x_tensor to (Batch Size, Flattened Image Size)\n",
    "    : x_tensor: A tensor of size (Batch Size, ...), where ... are the image dimensions.\n",
    "    : return: A tensor of size (Batch Size, Flattened Image Size).\n",
    "    \"\"\"\n",
    "    # TODO: Implement Function\n",
    "    return tf.contrib.layers.flatten(x_tensor)\n",
    "\n",
    "\n",
    "\"\"\"\n",
    "DON'T MODIFY ANYTHING IN THIS CELL THAT IS BELOW THIS LINE\n",
    "\"\"\"\n",
    "tests.test_flatten(flatten)"
   ]
  },
  {
   "cell_type": "markdown",
   "metadata": {},
   "source": [
    "### 全连接层\n",
    "\n",
    "实现 `fully_conn` 函数，以向 `x_tensor` 应用完全连接的层级，形状为（*部分大小（Batch Size）*，*num_outputs*）。快捷方法：对于此层，你可以使用 [TensorFlow Layers](https://www.tensorflow.org/api_docs/python/tf/layers) 或 [TensorFlow Layers (contrib)](https://www.tensorflow.org/api_guides/python/contrib.layers) 包中的类。如果你想要更大挑战，可以仅使用其他 TensorFlow 程序包。"
   ]
  },
  {
   "cell_type": "code",
   "execution_count": 11,
   "metadata": {},
   "outputs": [
    {
     "name": "stdout",
     "output_type": "stream",
     "text": [
      "Tests Passed\n"
     ]
    }
   ],
   "source": [
    "def fully_conn(x_tensor, num_outputs):\n",
    "    \"\"\"\n",
    "    Apply a fully connected layer to x_tensor using weight and bias\n",
    "    : x_tensor: A 2-D tensor where the first dimension is batch size.\n",
    "    : num_outputs: The number of output that the new tensor should be.\n",
    "    : return: A 2-D tensor where the second dimension is num_outputs.\n",
    "    \"\"\"\n",
    "    # TODO: Implement Function\n",
    "    \n",
    "    # 权重（从截断的正态分布中输出随机值） --横轴区间（μ-2σ，μ+2σ）内的面积为95.449974%\n",
    "    weights = tf.Variable(tf.truncated_normal([x_tensor.shape[1].value, num_outputs]))\n",
    "    \n",
    "    # 偏置项（从正态分布中输出随机值）\n",
    "    bias = tf.Variable(tf.random_normal([num_outputs]))\n",
    "    \n",
    "    # 全连接层\n",
    "    full_layer = tf.add(tf.matmul(x_tensor, weights), bias)\n",
    "    \n",
    "    return full_layer\n",
    "\n",
    "\n",
    "\"\"\"\n",
    "DON'T MODIFY ANYTHING IN THIS CELL THAT IS BELOW THIS LINE\n",
    "\"\"\"\n",
    "tests.test_fully_conn(fully_conn)"
   ]
  },
  {
   "cell_type": "markdown",
   "metadata": {},
   "source": [
    "### 输出层\n",
    "\n",
    "实现 `output` 函数，向 x_tensor 应用完全连接的层级，形状为（*部分大小（Batch Size）*，*num_outputs*）。快捷方法：对于此层，你可以使用 [TensorFlow Layers](https://www.tensorflow.org/api_docs/python/tf/layers) 或 [TensorFlow Layers (contrib)](https://www.tensorflow.org/api_guides/python/contrib.layers) 包中的类。如果你想要更大挑战，可以仅使用其他 TensorFlow 程序包。\n",
    "\n",
    "**注意**：该层级不应应用 Activation、softmax 或交叉熵（cross entropy）。"
   ]
  },
  {
   "cell_type": "code",
   "execution_count": 12,
   "metadata": {},
   "outputs": [
    {
     "name": "stdout",
     "output_type": "stream",
     "text": [
      "128\n",
      "Tests Passed\n"
     ]
    }
   ],
   "source": [
    "def output(x_tensor, num_outputs):\n",
    "    \"\"\"\n",
    "    Apply a output layer to x_tensor using weight and bias\n",
    "    : x_tensor: A 2-D tensor where the first dimension is batch size.\n",
    "    : num_outputs: The number of output that the new tensor should be.\n",
    "    : return: A 2-D tensor where the second dimension is num_outputs.\n",
    "    \"\"\"\n",
    "    # TODO: Implement Function\n",
    "    num_inputs = x_tensor.get_shape()[1].value\n",
    "    print(num_inputs)\n",
    "    \n",
    "    # 权重（从截断的正态分布中输出随机值） --横轴区间（μ-2σ，μ+2σ）内的面积为95.449974%\n",
    "    weight = tf.Variable(tf.truncated_normal([num_inputs, num_outputs]))\n",
    "    \n",
    "    # 偏置项（从截断的正态分布中输出随机值） --横轴区间（μ-2σ，μ+2σ）内的面积为95.449974%\n",
    "    bias = tf.Variable(tf.truncated_normal([num_outputs]))\n",
    "    \n",
    "    # 输出层\n",
    "    output_layer = tf.add(tf.matmul(x_tensor, weight),bias)\n",
    "    \n",
    "    return output_layer\n",
    "\n",
    "\"\"\"\n",
    "DON'T MODIFY ANYTHING IN THIS CELL THAT IS BELOW THIS LINE\n",
    "\"\"\"\n",
    "tests.test_output(output)"
   ]
  },
  {
   "cell_type": "markdown",
   "metadata": {},
   "source": [
    "### 创建卷积模型\n",
    "\n",
    "实现函数 `conv_net`， 创建卷积神经网络模型。该函数传入一批图片 `x`，并输出对数（logits）。使用你在上方创建的层创建此模型：\n",
    "\n",
    "* 应用 1、2 或 3 个卷积和最大池化层（Convolution and Max Pool layers）\n",
    "* 应用一个扁平层（Flatten Layer）\n",
    "* 应用 1、2 或 3 个完全连接层（Fully Connected Layers）\n",
    "* 应用一个输出层（Output Layer）\n",
    "* 返回输出\n",
    "* 使用 `keep_prob` 向模型中的一个或多个层应用 [TensorFlow 的 Dropout](https://www.tensorflow.org/api_docs/python/tf/nn/dropout)"
   ]
  },
  {
   "cell_type": "code",
   "execution_count": 13,
   "metadata": {},
   "outputs": [
    {
     "name": "stdout",
     "output_type": "stream",
     "text": [
      "1024\n",
      "1024\n",
      "Neural Network Built!\n"
     ]
    }
   ],
   "source": [
    "def conv_net(x, keep_prob):\n",
    "    \"\"\"\n",
    "    Create a convolutional neural network model\n",
    "    : x: Placeholder tensor that holds image data.\n",
    "    : keep_prob: Placeholder tensor that hold dropout keep probability.\n",
    "    : return: Tensor that represents logits\n",
    "    \"\"\"\n",
    "    # TODO: Apply 1, 2, or 3 Convolution and Max Pool layers\n",
    "    #    Play around with different number of outputs, kernel size and stride\n",
    "    # Function Definition from Above:\n",
    "    #    conv2d_maxpool(x_tensor, conv_num_outputs, conv_ksize, conv_strides, pool_ksize, pool_strides)\n",
    "    x = conv2d_maxpool(x,conv_num_outputs=128,\n",
    "                        conv_ksize=(3, 3),\n",
    "                        conv_strides=(1, 1),\n",
    "                        pool_ksize=(2, 2),\n",
    "                        pool_strides=(2, 2))\n",
    "\n",
    "    # TODO: Apply a Flatten Layer\n",
    "    # Function Definition from Above:\n",
    "    #   flatten(x_tensor)\n",
    "    x = flatten(x)\n",
    "    \n",
    "\n",
    "    # TODO: Apply 1, 2, or 3 Fully Connected Layers\n",
    "    #    Play around with different number of outputs\n",
    "    # Function Definition from Above:\n",
    "    #   fully_conn(x_tensor, num_outputs)\n",
    "    x = fully_conn(x, 1024)\n",
    "    \n",
    "    x = tf.nn.dropout(x, keep_prob)\n",
    "    \n",
    "    # TODO: Apply an Output Layer\n",
    "    #    Set this to the number of classes\n",
    "    # Function Definition from Above:\n",
    "    #   output(x_tensor, num_outputs)\n",
    "    x = output(x, 10)\n",
    "    \n",
    "    # TODO: return output\n",
    "    return x\n",
    "\n",
    "\n",
    "\"\"\"\n",
    "DON'T MODIFY ANYTHING IN THIS CELL THAT IS BELOW THIS LINE\n",
    "\"\"\"\n",
    "\n",
    "##############################\n",
    "## Build the Neural Network ##\n",
    "##############################\n",
    "\n",
    "# Remove previous weights, bias, inputs, etc..\n",
    "tf.reset_default_graph()\n",
    "\n",
    "# Inputs\n",
    "x = neural_net_image_input((32, 32, 3))\n",
    "y = neural_net_label_input(10)\n",
    "keep_prob = neural_net_keep_prob_input()\n",
    "\n",
    "# Model\n",
    "logits = conv_net(x, keep_prob)\n",
    "\n",
    "# Name logits Tensor, so that is can be loaded from disk after training\n",
    "logits = tf.identity(logits, name='logits')\n",
    "\n",
    "# Loss and Optimizer\n",
    "cost = tf.reduce_mean(tf.nn.softmax_cross_entropy_with_logits(logits=logits, labels=y))\n",
    "optimizer = tf.train.AdamOptimizer().minimize(cost)\n",
    "\n",
    "# Accuracy\n",
    "correct_pred = tf.equal(tf.argmax(logits, 1), tf.argmax(y, 1))\n",
    "accuracy = tf.reduce_mean(tf.cast(correct_pred, tf.float32), name='accuracy')\n",
    "\n",
    "tests.test_conv_net(conv_net)"
   ]
  },
  {
   "cell_type": "markdown",
   "metadata": {},
   "source": [
    "## 训练神经网络\n",
    "\n",
    "### 单次优化\n",
    "\n",
    "实现函数 `train_neural_network` 以进行单次优化（single optimization）。该优化应该使用 `optimizer` 优化 `session`，其中 `feed_dict` 具有以下参数：\n",
    "\n",
    "* `x` 表示图片输入\n",
    "* `y` 表示标签\n",
    "* `keep_prob` 表示丢弃的保留率\n",
    "\n",
    "每个部分都会调用该函数，所以 `tf.global_variables_initializer()` 已经被调用。\n",
    "\n",
    "注意：不需要返回任何内容。该函数只是用来优化神经网络。\n"
   ]
  },
  {
   "cell_type": "code",
   "execution_count": 14,
   "metadata": {},
   "outputs": [
    {
     "name": "stdout",
     "output_type": "stream",
     "text": [
      "Tests Passed\n"
     ]
    }
   ],
   "source": [
    "def train_neural_network(session, optimizer, keep_probability, feature_batch, label_batch):\n",
    "    \"\"\"\n",
    "    Optimize the session on a batch of images and labels\n",
    "    : session: Current TensorFlow session\n",
    "    : optimizer: TensorFlow optimizer function\n",
    "    : keep_probability: keep probability\n",
    "    : feature_batch: Batch of Numpy image data\n",
    "    : label_batch: Batch of Numpy label data\n",
    "    \"\"\"\n",
    "    # TODO: Implement Function\n",
    "    feed_dict = {x: feature_batch, y: label_batch, keep_prob: keep_probability}\n",
    "    session.run(optimizer, feed_dict)\n",
    "\n",
    "\n",
    "\"\"\"\n",
    "DON'T MODIFY ANYTHING IN THIS CELL THAT IS BELOW THIS LINE\n",
    "\"\"\"\n",
    "tests.test_train_nn(train_neural_network)"
   ]
  },
  {
   "cell_type": "markdown",
   "metadata": {},
   "source": [
    "### 显示数据\n",
    "\n",
    "实现函数 `print_stats` 以输出损失和验证准确率。使用全局变量 `valid_features` 和 `valid_labels` 计算验证准确率。使用保留率 `1.0` 计算损失和验证准确率（loss and validation accuracy）。\n"
   ]
  },
  {
   "cell_type": "code",
   "execution_count": 15,
   "metadata": {
    "collapsed": true
   },
   "outputs": [],
   "source": [
    "def print_stats(session, feature_batch, label_batch, cost, accuracy):\n",
    "    \"\"\"\n",
    "    Print information about loss and validation accuracy\n",
    "    : session: Current TensorFlow session\n",
    "    : feature_batch: Batch of Numpy image data\n",
    "    : label_batch: Batch of Numpy label data\n",
    "    : cost: TensorFlow cost function\n",
    "    : accuracy: TensorFlow accuracy function\n",
    "    \"\"\"\n",
    "    # TODO: Implement Function\n",
    "    cost = session.run(cost, feed_dict={x: feature_batch,y: label_batch,keep_prob: 1.0})\n",
    "    accuracy = session.run(accuracy, feed_dict={x: valid_features,y: valid_labels,keep_prob: 1.0})\n",
    "    \n",
    "    print('cost: {}, accuracy: {}'.format(cost, accuracy))"
   ]
  },
  {
   "cell_type": "markdown",
   "metadata": {},
   "source": [
    "### 超参数\n",
    "\n",
    "调试以下超参数：\n",
    "* 设置 `epochs` 表示神经网络停止学习或开始过拟合的迭代次数\n",
    "* 设置 `batch_size`，表示机器内存允许的部分最大体积。大部分人设为以下常见内存大小：\n",
    "\n",
    " * 64\n",
    " * 128\n",
    " * 256\n",
    " * ...\n",
    "* 设置 `keep_probability` 表示使用丢弃时保留节点的概率"
   ]
  },
  {
   "cell_type": "code",
   "execution_count": 16,
   "metadata": {
    "collapsed": true
   },
   "outputs": [],
   "source": [
    "# TODO: Tune Parameters\n",
    "epochs = 20\n",
    "batch_size = 512\n",
    "keep_probability = 0.8"
   ]
  },
  {
   "cell_type": "markdown",
   "metadata": {},
   "source": [
    "### 在单个 CIFAR-10 部分上训练\n",
    "\n",
    "我们先用单个部分，而不是用所有的 CIFAR-10 批次训练神经网络。这样可以节省时间，并对模型进行迭代，以提高准确率。最终验证准确率达到 50% 或以上之后，在下一部分对所有数据运行模型。\n"
   ]
  },
  {
   "cell_type": "code",
   "execution_count": 17,
   "metadata": {},
   "outputs": [
    {
     "name": "stdout",
     "output_type": "stream",
     "text": [
      "Checking the Training on a Single Batch...\n",
      "Epoch  1, CIFAR-10 Batch 1:  cost: 3579.42919921875, accuracy: 0.21859999001026154\n",
      "Epoch  2, CIFAR-10 Batch 1:  cost: 2974.255126953125, accuracy: 0.27539998292922974\n",
      "Epoch  3, CIFAR-10 Batch 1:  cost: 2259.551513671875, accuracy: 0.3025999963283539\n",
      "Epoch  4, CIFAR-10 Batch 1:  cost: 2030.57373046875, accuracy: 0.33480000495910645\n",
      "Epoch  5, CIFAR-10 Batch 1:  cost: 1699.79931640625, accuracy: 0.35339999198913574\n",
      "Epoch  6, CIFAR-10 Batch 1:  cost: 1459.178466796875, accuracy: 0.3659999966621399\n",
      "Epoch  7, CIFAR-10 Batch 1:  cost: 1235.5672607421875, accuracy: 0.38599997758865356\n",
      "Epoch  8, CIFAR-10 Batch 1:  cost: 1121.2476806640625, accuracy: 0.3959999978542328\n",
      "Epoch  9, CIFAR-10 Batch 1:  cost: 992.579345703125, accuracy: 0.4039999544620514\n",
      "Epoch 10, CIFAR-10 Batch 1:  cost: 815.2180786132812, accuracy: 0.4267999827861786\n",
      "Epoch 11, CIFAR-10 Batch 1:  cost: 810.66845703125, accuracy: 0.42319998145103455\n",
      "Epoch 12, CIFAR-10 Batch 1:  cost: 648.640625, accuracy: 0.449599951505661\n",
      "Epoch 13, CIFAR-10 Batch 1:  cost: 611.4835205078125, accuracy: 0.4405999779701233\n",
      "Epoch 14, CIFAR-10 Batch 1:  cost: 735.7556762695312, accuracy: 0.4307999908924103\n",
      "Epoch 15, CIFAR-10 Batch 1:  cost: 596.2241821289062, accuracy: 0.4405999779701233\n",
      "Epoch 16, CIFAR-10 Batch 1:  cost: 512.1741333007812, accuracy: 0.4553999602794647\n",
      "Epoch 17, CIFAR-10 Batch 1:  cost: 530.2510375976562, accuracy: 0.4589999318122864\n",
      "Epoch 18, CIFAR-10 Batch 1:  cost: 515.4710083007812, accuracy: 0.44759994745254517\n",
      "Epoch 19, CIFAR-10 Batch 1:  cost: 444.0810546875, accuracy: 0.4801999628543854\n",
      "Epoch 20, CIFAR-10 Batch 1:  cost: 546.8447265625, accuracy: 0.4257999658584595\n"
     ]
    }
   ],
   "source": [
    "\"\"\"\n",
    "DON'T MODIFY ANYTHING IN THIS CELL\n",
    "\"\"\"\n",
    "print('Checking the Training on a Single Batch...')\n",
    "with tf.Session() as sess:\n",
    "    # Initializing the variables\n",
    "    sess.run(tf.global_variables_initializer())\n",
    "    \n",
    "    # Training cycle\n",
    "    for epoch in range(epochs):\n",
    "        batch_i = 1\n",
    "        for batch_features, batch_labels in helper.load_preprocess_training_batch(batch_i, batch_size):\n",
    "            train_neural_network(sess, optimizer, keep_probability, batch_features, batch_labels)\n",
    "        print('Epoch {:>2}, CIFAR-10 Batch {}:  '.format(epoch + 1, batch_i), end='')\n",
    "        print_stats(sess, batch_features, batch_labels, cost, accuracy)"
   ]
  },
  {
   "cell_type": "markdown",
   "metadata": {},
   "source": [
    "### 完全训练模型\n",
    "\n",
    "现在，单个 CIFAR-10 部分的准确率已经不错了，试试所有五个部分吧。"
   ]
  },
  {
   "cell_type": "code",
   "execution_count": 18,
   "metadata": {},
   "outputs": [
    {
     "name": "stdout",
     "output_type": "stream",
     "text": [
      "Training...\n",
      "Epoch  1, CIFAR-10 Batch 1:  cost: 4072.7587890625, accuracy: 0.2117999941110611\n",
      "Epoch  1, CIFAR-10 Batch 2:  cost: 2717.18896484375, accuracy: 0.2784000039100647\n",
      "Epoch  1, CIFAR-10 Batch 3:  cost: 2262.64013671875, accuracy: 0.2955999970436096\n",
      "Epoch  1, CIFAR-10 Batch 4:  cost: 1730.4404296875, accuracy: 0.33399999141693115\n",
      "Epoch  1, CIFAR-10 Batch 5:  cost: 1695.2567138671875, accuracy: 0.3691999912261963\n",
      "Epoch  2, CIFAR-10 Batch 1:  cost: 1756.9356689453125, accuracy: 0.3861999809741974\n",
      "Epoch  2, CIFAR-10 Batch 2:  cost: 1290.06982421875, accuracy: 0.3901999890804291\n",
      "Epoch  2, CIFAR-10 Batch 3:  cost: 1163.68408203125, accuracy: 0.3933999836444855\n",
      "Epoch  2, CIFAR-10 Batch 4:  cost: 1109.252685546875, accuracy: 0.38839998841285706\n",
      "Epoch  2, CIFAR-10 Batch 5:  cost: 1073.574462890625, accuracy: 0.4169999957084656\n",
      "Epoch  3, CIFAR-10 Batch 1:  cost: 1121.35302734375, accuracy: 0.42659997940063477\n",
      "Epoch  3, CIFAR-10 Batch 2:  cost: 879.71484375, accuracy: 0.42559999227523804\n",
      "Epoch  3, CIFAR-10 Batch 3:  cost: 936.9759521484375, accuracy: 0.43359994888305664\n",
      "Epoch  3, CIFAR-10 Batch 4:  cost: 906.5704345703125, accuracy: 0.4301999807357788\n",
      "Epoch  3, CIFAR-10 Batch 5:  cost: 753.92529296875, accuracy: 0.44199997186660767\n",
      "Epoch  4, CIFAR-10 Batch 1:  cost: 989.9154052734375, accuracy: 0.4465999901294708\n",
      "Epoch  4, CIFAR-10 Batch 2:  cost: 749.4765625, accuracy: 0.4519999623298645\n",
      "Epoch  4, CIFAR-10 Batch 3:  cost: 776.0006103515625, accuracy: 0.45719999074935913\n",
      "Epoch  4, CIFAR-10 Batch 4:  cost: 712.0115966796875, accuracy: 0.4763999283313751\n",
      "Epoch  4, CIFAR-10 Batch 5:  cost: 536.7943115234375, accuracy: 0.49619993567466736\n",
      "Epoch  5, CIFAR-10 Batch 1:  cost: 792.3886108398438, accuracy: 0.464199960231781\n",
      "Epoch  5, CIFAR-10 Batch 2:  cost: 601.9594116210938, accuracy: 0.46839994192123413\n",
      "Epoch  5, CIFAR-10 Batch 3:  cost: 677.9415283203125, accuracy: 0.48399996757507324\n",
      "Epoch  5, CIFAR-10 Batch 4:  cost: 539.517333984375, accuracy: 0.5061998963356018\n",
      "Epoch  5, CIFAR-10 Batch 5:  cost: 459.69635009765625, accuracy: 0.5125999450683594\n",
      "Epoch  6, CIFAR-10 Batch 1:  cost: 854.376708984375, accuracy: 0.5003999471664429\n",
      "Epoch  6, CIFAR-10 Batch 2:  cost: 496.7662353515625, accuracy: 0.5087999701499939\n",
      "Epoch  6, CIFAR-10 Batch 3:  cost: 496.96722412109375, accuracy: 0.5211999416351318\n",
      "Epoch  6, CIFAR-10 Batch 4:  cost: 444.88885498046875, accuracy: 0.5249999165534973\n",
      "Epoch  6, CIFAR-10 Batch 5:  cost: 447.4801025390625, accuracy: 0.5013999938964844\n",
      "Epoch  7, CIFAR-10 Batch 1:  cost: 581.6151733398438, accuracy: 0.5299999117851257\n",
      "Epoch  7, CIFAR-10 Batch 2:  cost: 462.98785400390625, accuracy: 0.5167999267578125\n",
      "Epoch  7, CIFAR-10 Batch 3:  cost: 390.2015380859375, accuracy: 0.5303999185562134\n",
      "Epoch  7, CIFAR-10 Batch 4:  cost: 436.9803771972656, accuracy: 0.5273999571800232\n",
      "Epoch  7, CIFAR-10 Batch 5:  cost: 369.4685974121094, accuracy: 0.5317999124526978\n",
      "Epoch  8, CIFAR-10 Batch 1:  cost: 455.2984313964844, accuracy: 0.542199969291687\n",
      "Epoch  8, CIFAR-10 Batch 2:  cost: 474.1136779785156, accuracy: 0.5231999158859253\n",
      "Epoch  8, CIFAR-10 Batch 3:  cost: 417.6346435546875, accuracy: 0.5327999591827393\n",
      "Epoch  8, CIFAR-10 Batch 4:  cost: 417.41802978515625, accuracy: 0.5171999931335449\n",
      "Epoch  8, CIFAR-10 Batch 5:  cost: 465.47198486328125, accuracy: 0.5133999586105347\n",
      "Epoch  9, CIFAR-10 Batch 1:  cost: 528.046142578125, accuracy: 0.5381999611854553\n",
      "Epoch  9, CIFAR-10 Batch 2:  cost: 393.3049011230469, accuracy: 0.5261999368667603\n",
      "Epoch  9, CIFAR-10 Batch 3:  cost: 348.98193359375, accuracy: 0.5473999381065369\n",
      "Epoch  9, CIFAR-10 Batch 4:  cost: 391.1877746582031, accuracy: 0.5323998928070068\n",
      "Epoch  9, CIFAR-10 Batch 5:  cost: 321.30743408203125, accuracy: 0.5521999597549438\n",
      "Epoch 10, CIFAR-10 Batch 1:  cost: 462.46319580078125, accuracy: 0.5281999707221985\n",
      "Epoch 10, CIFAR-10 Batch 2:  cost: 351.890380859375, accuracy: 0.5595998764038086\n",
      "Epoch 10, CIFAR-10 Batch 3:  cost: 300.4338684082031, accuracy: 0.542199969291687\n",
      "Epoch 10, CIFAR-10 Batch 4:  cost: 355.29718017578125, accuracy: 0.5383999347686768\n",
      "Epoch 10, CIFAR-10 Batch 5:  cost: 298.8880310058594, accuracy: 0.5565999746322632\n",
      "Epoch 11, CIFAR-10 Batch 1:  cost: 447.53460693359375, accuracy: 0.5425999760627747\n",
      "Epoch 11, CIFAR-10 Batch 2:  cost: 283.24676513671875, accuracy: 0.5603998899459839\n",
      "Epoch 11, CIFAR-10 Batch 3:  cost: 269.89337158203125, accuracy: 0.561199963092804\n",
      "Epoch 11, CIFAR-10 Batch 4:  cost: 290.8993225097656, accuracy: 0.5583999156951904\n",
      "Epoch 11, CIFAR-10 Batch 5:  cost: 293.738525390625, accuracy: 0.5419999361038208\n",
      "Epoch 12, CIFAR-10 Batch 1:  cost: 347.1771240234375, accuracy: 0.5555999279022217\n",
      "Epoch 12, CIFAR-10 Batch 2:  cost: 333.52496337890625, accuracy: 0.5451999306678772\n",
      "Epoch 12, CIFAR-10 Batch 3:  cost: 292.45867919921875, accuracy: 0.5411999225616455\n",
      "Epoch 12, CIFAR-10 Batch 4:  cost: 335.4172668457031, accuracy: 0.5359999537467957\n",
      "Epoch 12, CIFAR-10 Batch 5:  cost: 208.9071807861328, accuracy: 0.5615999102592468\n",
      "Epoch 13, CIFAR-10 Batch 1:  cost: 317.915283203125, accuracy: 0.5715999603271484\n",
      "Epoch 13, CIFAR-10 Batch 2:  cost: 255.870361328125, accuracy: 0.5753998756408691\n",
      "Epoch 13, CIFAR-10 Batch 3:  cost: 234.60379028320312, accuracy: 0.5667999386787415\n",
      "Epoch 13, CIFAR-10 Batch 4:  cost: 313.4124755859375, accuracy: 0.553399920463562\n",
      "Epoch 13, CIFAR-10 Batch 5:  cost: 234.947265625, accuracy: 0.5669999122619629\n",
      "Epoch 14, CIFAR-10 Batch 1:  cost: 358.3996276855469, accuracy: 0.5365999341011047\n",
      "Epoch 14, CIFAR-10 Batch 2:  cost: 323.3073425292969, accuracy: 0.5477999448776245\n",
      "Epoch 14, CIFAR-10 Batch 3:  cost: 214.19387817382812, accuracy: 0.5607999563217163\n",
      "Epoch 14, CIFAR-10 Batch 4:  cost: 244.85369873046875, accuracy: 0.538399875164032\n",
      "Epoch 14, CIFAR-10 Batch 5:  cost: 252.11834716796875, accuracy: 0.5607999563217163\n",
      "Epoch 15, CIFAR-10 Batch 1:  cost: 283.7271728515625, accuracy: 0.5691999197006226\n",
      "Epoch 15, CIFAR-10 Batch 2:  cost: 252.4362335205078, accuracy: 0.572999894618988\n",
      "Epoch 15, CIFAR-10 Batch 3:  cost: 191.6717987060547, accuracy: 0.5753999352455139\n",
      "Epoch 15, CIFAR-10 Batch 4:  cost: 209.1011962890625, accuracy: 0.5737999677658081\n",
      "Epoch 15, CIFAR-10 Batch 5:  cost: 221.4180145263672, accuracy: 0.5695999264717102\n",
      "Epoch 16, CIFAR-10 Batch 1:  cost: 269.74310302734375, accuracy: 0.5625998973846436\n",
      "Epoch 16, CIFAR-10 Batch 2:  cost: 215.18597412109375, accuracy: 0.5693999528884888\n",
      "Epoch 16, CIFAR-10 Batch 3:  cost: 188.4456024169922, accuracy: 0.5685999393463135\n",
      "Epoch 16, CIFAR-10 Batch 4:  cost: 218.95797729492188, accuracy: 0.5597999095916748\n",
      "Epoch 16, CIFAR-10 Batch 5:  cost: 188.92922973632812, accuracy: 0.5785999298095703\n",
      "Epoch 17, CIFAR-10 Batch 1:  cost: 300.2573547363281, accuracy: 0.554599940776825\n",
      "Epoch 17, CIFAR-10 Batch 2:  cost: 228.43402099609375, accuracy: 0.5567999482154846\n",
      "Epoch 17, CIFAR-10 Batch 3:  cost: 161.75726318359375, accuracy: 0.5735999345779419\n",
      "Epoch 17, CIFAR-10 Batch 4:  cost: 190.21473693847656, accuracy: 0.5705999732017517\n",
      "Epoch 17, CIFAR-10 Batch 5:  cost: 192.4742431640625, accuracy: 0.5769999623298645\n",
      "Epoch 18, CIFAR-10 Batch 1:  cost: 239.04879760742188, accuracy: 0.5737999081611633\n",
      "Epoch 18, CIFAR-10 Batch 2:  cost: 165.6497802734375, accuracy: 0.5775998830795288\n",
      "Epoch 18, CIFAR-10 Batch 3:  cost: 173.3805389404297, accuracy: 0.571199893951416\n",
      "Epoch 18, CIFAR-10 Batch 4:  cost: 201.83578491210938, accuracy: 0.5727999210357666\n",
      "Epoch 18, CIFAR-10 Batch 5:  cost: 184.27127075195312, accuracy: 0.574999988079071\n",
      "Epoch 19, CIFAR-10 Batch 1:  cost: 257.2668762207031, accuracy: 0.5585999488830566\n",
      "Epoch 19, CIFAR-10 Batch 2:  cost: 169.61508178710938, accuracy: 0.5813999176025391\n",
      "Epoch 19, CIFAR-10 Batch 3:  cost: 128.81561279296875, accuracy: 0.5791999101638794\n",
      "Epoch 19, CIFAR-10 Batch 4:  cost: 170.97084045410156, accuracy: 0.5681999325752258\n",
      "Epoch 19, CIFAR-10 Batch 5:  cost: 161.1138153076172, accuracy: 0.5933999419212341\n",
      "Epoch 20, CIFAR-10 Batch 1:  cost: 214.80174255371094, accuracy: 0.5691999793052673\n",
      "Epoch 20, CIFAR-10 Batch 2:  cost: 184.0309295654297, accuracy: 0.5675999522209167\n",
      "Epoch 20, CIFAR-10 Batch 3:  cost: 129.42074584960938, accuracy: 0.585599958896637\n",
      "Epoch 20, CIFAR-10 Batch 4:  cost: 149.73858642578125, accuracy: 0.5721999406814575\n"
     ]
    },
    {
     "name": "stdout",
     "output_type": "stream",
     "text": [
      "Epoch 20, CIFAR-10 Batch 5:  cost: 107.59662628173828, accuracy: 0.6009999513626099\n"
     ]
    }
   ],
   "source": [
    "\"\"\"\n",
    "DON'T MODIFY ANYTHING IN THIS CELL\n",
    "\"\"\"\n",
    "save_model_path = './image_classification'\n",
    "\n",
    "print('Training...')\n",
    "with tf.Session() as sess:\n",
    "    # Initializing the variables\n",
    "    sess.run(tf.global_variables_initializer())\n",
    "    \n",
    "    # Training cycle\n",
    "    for epoch in range(epochs):\n",
    "        # Loop over all batches\n",
    "        n_batches = 5\n",
    "        for batch_i in range(1, n_batches + 1):\n",
    "            for batch_features, batch_labels in helper.load_preprocess_training_batch(batch_i, batch_size):\n",
    "                train_neural_network(sess, optimizer, keep_probability, batch_features, batch_labels)\n",
    "            print('Epoch {:>2}, CIFAR-10 Batch {}:  '.format(epoch + 1, batch_i), end='')\n",
    "            print_stats(sess, batch_features, batch_labels, cost, accuracy)\n",
    "            \n",
    "    # Save Model\n",
    "    saver = tf.train.Saver()\n",
    "    save_path = saver.save(sess, save_model_path)"
   ]
  },
  {
   "cell_type": "markdown",
   "metadata": {},
   "source": [
    "# 检查点\n",
    "\n",
    "模型已保存到本地。\n",
    "\n",
    "## 测试模型\n",
    "\n",
    "利用测试数据集测试你的模型。这将是最终的准确率。你的准确率应该高于 50%。如果没达到，请继续调整模型结构和参数。"
   ]
  },
  {
   "cell_type": "code",
   "execution_count": 19,
   "metadata": {},
   "outputs": [
    {
     "name": "stdout",
     "output_type": "stream",
     "text": [
      "INFO:tensorflow:Restoring parameters from ./image_classification\n",
      "Testing Accuracy: 0.6012580454349518\n",
      "\n"
     ]
    },
    {
     "data": {
      "image/png": "[encoded data removed]",
      "text/plain": [
       "<matplotlib.figure.Figure at 0x7fad9a89ad68>"
      ]
     },
     "metadata": {
      "image/png": {
       "height": 319,
       "width": 349
      }
     },
     "output_type": "display_data"
    }
   ],
   "source": [
    "\"\"\"\n",
    "DON'T MODIFY ANYTHING IN THIS CELL\n",
    "\"\"\"\n",
    "%matplotlib inline\n",
    "%config InlineBackend.figure_format = 'retina'\n",
    "\n",
    "import tensorflow as tf\n",
    "import pickle\n",
    "import helper\n",
    "import random\n",
    "\n",
    "# Set batch size if not already set\n",
    "try:\n",
    "    if batch_size:\n",
    "        pass\n",
    "except NameError:\n",
    "    batch_size = 64\n",
    "\n",
    "save_model_path = './image_classification'\n",
    "n_samples = 4\n",
    "top_n_predictions = 3\n",
    "\n",
    "def test_model():\n",
    "    \"\"\"\n",
    "    Test the saved model against the test dataset\n",
    "    \"\"\"\n",
    "\n",
    "    test_features, test_labels = pickle.load(open('preprocess_test.p', mode='rb'))\n",
    "    loaded_graph = tf.Graph()\n",
    "\n",
    "    with tf.Session(graph=loaded_graph) as sess:\n",
    "        # Load model\n",
    "        loader = tf.train.import_meta_graph(save_model_path + '.meta')\n",
    "        loader.restore(sess, save_model_path)\n",
    "\n",
    "        # Get Tensors from loaded model\n",
    "        loaded_x = loaded_graph.get_tensor_by_name('x:0')\n",
    "        loaded_y = loaded_graph.get_tensor_by_name('y:0')\n",
    "        loaded_keep_prob = loaded_graph.get_tensor_by_name('keep_prob:0')\n",
    "        loaded_logits = loaded_graph.get_tensor_by_name('logits:0')\n",
    "        loaded_acc = loaded_graph.get_tensor_by_name('accuracy:0')\n",
    "        \n",
    "        # Get accuracy in batches for memory limitations\n",
    "        test_batch_acc_total = 0\n",
    "        test_batch_count = 0\n",
    "        \n",
    "        for test_feature_batch, test_label_batch in helper.batch_features_labels(test_features, test_labels, batch_size):\n",
    "            test_batch_acc_total += sess.run(\n",
    "                loaded_acc,\n",
    "                feed_dict={loaded_x: test_feature_batch, loaded_y: test_label_batch, loaded_keep_prob: 1.0})\n",
    "            test_batch_count += 1\n",
    "\n",
    "        print('Testing Accuracy: {}\\n'.format(test_batch_acc_total/test_batch_count))\n",
    "\n",
    "        # Print Random Samples\n",
    "        random_test_features, random_test_labels = tuple(zip(*random.sample(list(zip(test_features, test_labels)), n_samples)))\n",
    "        random_test_predictions = sess.run(\n",
    "            tf.nn.top_k(tf.nn.softmax(loaded_logits), top_n_predictions),\n",
    "            feed_dict={loaded_x: random_test_features, loaded_y: random_test_labels, loaded_keep_prob: 1.0})\n",
    "        helper.display_image_predictions(random_test_features, random_test_labels, random_test_predictions)\n",
    "\n",
    "\n",
    "test_model()"
   ]
  },
  {
   "cell_type": "markdown",
   "metadata": {},
   "source": [
    "## 为何准确率只有50-80%？\n",
    "\n",
    "你可能想问，为何准确率不能更高了？首先，对于简单的 CNN 网络来说，50% 已经不低了。纯粹猜测的准确率为10%。但是，你可能注意到有人的准确率[远远超过 80%](http://rodrigob.github.io/are_we_there_yet/build/classification_datasets_results.html#43494641522d3130)。这是因为我们还没有介绍所有的神经网络知识。我们还需要掌握一些其他技巧。\n",
    "\n",
    "## 提交项目\n",
    "\n",
    "提交项目时，确保先运行所有单元，然后再保存记事本。将 notebook 文件另存为“dlnd_image_classification.ipynb”，再在目录 \"File\" -> \"Download as\" 另存为 HTML 格式。请在提交的项目中包含 “helper.py” 和 “problem_unittests.py” 文件。\n"
   ]
  }
 ],
 "metadata": {
  "kernelspec": {
   "display_name": "Python 3",
   "language": "python",
   "name": "python3"
  },
  "language_info": {
   "codemirror_mode": {
    "name": "ipython",
    "version": 3
   },
   "file_extension": ".py",
   "mimetype": "text/x-python",
   "name": "python",
   "nbconvert_exporter": "python",
   "pygments_lexer": "ipython3",
   "version": "3.5.3"
  }
 },
 "nbformat": 4,
 "nbformat_minor": 1
}
